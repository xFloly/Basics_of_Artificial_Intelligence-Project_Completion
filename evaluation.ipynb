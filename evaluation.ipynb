{
 "cells": [
  {
   "cell_type": "code",
   "execution_count": 1,
   "metadata": {},
   "outputs": [],
   "source": [
    "from sklearn.pipeline import Pipeline\n",
    "from sklearn.base import BaseEstimator, TransformerMixin\n",
    "import pandas as pd\n",
    "from sklearn.preprocessing import LabelEncoder,OrdinalEncoder\n",
    "from sklearn.impute import SimpleImputer\n",
    "from sklearn.compose import ColumnTransformer\n",
    "import numpy as np\n",
    "import lightgbm as lgbm\n",
    "import xgboost as xgb\n",
    "from sklearn.ensemble import RandomForestClassifier\n",
    "from sklearn.model_selection import cross_val_score\n",
    "from sklearn.model_selection import StratifiedKFold\n",
    "from sklearn.metrics import log_loss\n",
    "from hyperopt import fmin, rand, tpe, space_eval, STATUS_OK, Trials, hp\n",
    "from sklearn.model_selection import train_test_split\n",
    "from sklearn.ensemble import HistGradientBoostingClassifier\n",
    "from sklearn.linear_model import SGDClassifier\n",
    "from sklearn.neighbors import KNeighborsClassifier\n",
    "from sklearn.preprocessing import FunctionTransformer\n",
    "from joblib import dump,load\n"
   ]
  },
  {
   "cell_type": "markdown",
   "metadata": {},
   "source": [
    "## Preprocessing"
   ]
  },
  {
   "cell_type": "code",
   "execution_count": 2,
   "metadata": {},
   "outputs": [],
   "source": [
    "df_train = pd.read_csv('./data_sets/train.csv')\n",
    "df_test = pd.read_csv('./data_sets/test.csv')\n",
    "df_train.drop_duplicates(inplace=True)\n",
    "df_train.drop(columns=['Descript', 'Resolution', 'Address','DayOfWeek'], inplace=True)\n",
    "df_test.drop(columns=['Address','DayOfWeek'], inplace=True)\n",
    "id_test = df_test.pop('Id')"
   ]
  },
  {
   "cell_type": "code",
   "execution_count": 3,
   "metadata": {},
   "outputs": [],
   "source": [
    "# df_train.replace({'X': -120.5, 'Y': 90.0}, np.NaN, inplace=True)\n",
    "# df_test.replace({'X': -120.5, 'Y': 90.0}, np.NaN, inplace=True)\n",
    "\n",
    "# imp = SimpleImputer(strategy='mean')\n",
    "\n",
    "# for district in df_train['PdDistrict'].unique():\n",
    "#     df_train.loc[df_train['PdDistrict'] == district, ['X', 'Y']] = imp.fit_transform(\n",
    "#         df_train.loc[df_train['PdDistrict'] == district, ['X', 'Y']])\n",
    "#     df_test.loc[df_test['PdDistrict'] == district, ['X', 'Y']] = imp.transform(\n",
    "#         df_test.loc[df_test['PdDistrict'] == district, ['X', 'Y']])"
   ]
  },
  {
   "cell_type": "code",
   "execution_count": 4,
   "metadata": {},
   "outputs": [],
   "source": [
    "# dump(imp, 'imputer.joblib')"
   ]
  },
  {
   "cell_type": "code",
   "execution_count": 5,
   "metadata": {},
   "outputs": [
    {
     "name": "stderr",
     "output_type": "stream",
     "text": [
      "c:\\Users\\musia\\AppData\\Local\\Programs\\Python\\Python311\\Lib\\site-packages\\sklearn\\base.py:376: InconsistentVersionWarning: Trying to unpickle estimator SimpleImputer from version 1.2.2 when using version 1.5.0. This might lead to breaking code or invalid results. Use at your own risk. For more info please refer to:\n",
      "https://scikit-learn.org/stable/model_persistence.html#security-maintainability-limitations\n",
      "  warnings.warn(\n"
     ]
    }
   ],
   "source": [
    "imp = load('imputer.joblib')"
   ]
  },
  {
   "cell_type": "code",
   "execution_count": 6,
   "metadata": {},
   "outputs": [],
   "source": [
    "df_test.replace({'X': -120.5, 'Y': 90.0}, np.NaN, inplace=True)\n",
    "df_train.replace({'X': -120.5, 'Y': 90.0}, np.NaN, inplace=True)\n",
    "\n",
    "for district in df_train['PdDistrict'].unique():\n",
    "    df_train.loc[df_train['PdDistrict'] == district, ['X', 'Y']] = imp.transform(\n",
    "        df_train.loc[df_train['PdDistrict'] == district, ['X', 'Y']])\n",
    "    df_test.loc[df_test['PdDistrict'] == district, ['X', 'Y']] = imp.transform(\n",
    "        df_test.loc[df_test['PdDistrict'] == district, ['X', 'Y']])"
   ]
  },
  {
   "cell_type": "code",
   "execution_count": null,
   "metadata": {},
   "outputs": [],
   "source": []
  },
  {
   "cell_type": "code",
   "execution_count": 7,
   "metadata": {},
   "outputs": [],
   "source": [
    "y_train = df_train['Category']\n",
    "df_train = df_train.drop('Category', axis=1)"
   ]
  },
  {
   "cell_type": "code",
   "execution_count": 8,
   "metadata": {},
   "outputs": [],
   "source": [
    "base_df  = df_train"
   ]
  },
  {
   "cell_type": "code",
   "execution_count": 9,
   "metadata": {},
   "outputs": [],
   "source": [
    "\n",
    "class DateFeatureExtractor(BaseEstimator, TransformerMixin):\n",
    "    def __init__(self, column):\n",
    "        self.column = column\n",
    "\n",
    "    def fit(self, X, y=None):\n",
    "        return self\n",
    "\n",
    "    def transform(self, X, y=None):\n",
    "        X = X.copy()\n",
    "        X[self.column] = pd.to_datetime(X[self.column])\n",
    "        X['day'] = X[self.column].dt.day - 1\n",
    "        X['month'] = X[self.column].dt.month - 1\n",
    "        X['year'] = X[self.column].dt.year\n",
    "        X['hour'] = X[self.column].dt.hour\n",
    "        X['quarter'] = X[self.column].dt.quarter - 1\n",
    "        X['dayofyear'] = X[self.column].dt.dayofyear - 1\n",
    "        X['dayofweek'] = X[self.column].dt.dayofweek\n",
    "        X['is_weekend'] = (\n",
    "            X[self.column].dt.dayofweek >= 5).astype(int)\n",
    "        X['minute'] = X[self.column].dt.minute\n",
    "        X=X.drop(columns=self.column)\n",
    "        return X\n",
    "\n",
    "\n",
    "class CosTransformation(BaseEstimator, TransformerMixin):\n",
    "    def __init__(self, column, minus=False):\n",
    "        self.period = None\n",
    "        self.minus = minus\n",
    "        self.column = column\n",
    "\n",
    "    def fit(self, X, y=None):\n",
    "        self.minus = -1 if self.minus else 1\n",
    "        self.period = X[self.column].nunique()\n",
    "        return self\n",
    "\n",
    "    def transform(self, X, y=None):\n",
    "        X = X.copy()\n",
    "        X[self.column + 'cos'] = self.minus * \\\n",
    "            np.cos(X[self.column] * 2 * np.pi / self.period)\n",
    "        return X\n",
    "\n",
    "\n",
    "class SinTransformation(BaseEstimator, TransformerMixin):\n",
    "    def __init__(self, column, minus=False):\n",
    "        self.period = None\n",
    "        self.minus = minus\n",
    "        self.column = column\n",
    "\n",
    "    def fit(self, X, y=None):\n",
    "        self.minus = -1 if self.minus else 1\n",
    "        self.period = X[self.column].nunique()\n",
    "        return self\n",
    "\n",
    "    def transform(self, X, y=None):\n",
    "        X = X.copy()\n",
    "        X[self.column + 'sin'] = self.minus * \\\n",
    "            np.sin(X[self.column] * 2 * np.pi / self.period)\n",
    "        return X\n",
    "\n",
    "\n",
    "class BucketingCoordinatesTransformation(BaseEstimator, TransformerMixin):\n",
    "    def __init__(self, columns=['X', 'Y'], bins=10):\n",
    "        self.columns = columns\n",
    "        self.bins = bins\n",
    "\n",
    "    def fit(self, X, y=None):\n",
    "        self.x_mean = X[self.columns[0]].mean()\n",
    "        self.y_mean = X[self.columns[1]].mean()\n",
    "        self.x_std = X[self.columns[0]].std()\n",
    "        self.y_std = X[self.columns[1]].std()\n",
    "\n",
    "        self.x_min = ((X[self.columns[0]] - self.x_mean) / self.x_std).min()\n",
    "        self.x_max = ((X[self.columns[0]] - self.x_mean) / self.x_std).max()\n",
    "        self.y_min = ((X[self.columns[1]] - self.y_mean) / self.y_std).min()\n",
    "        self.y_max = ((X[self.columns[1]] - self.y_mean) / self.y_std).max()\n",
    "\n",
    "        self.bin_edges_x = np.linspace(self.x_min, self.x_max, self.bins)\n",
    "        self.bin_edges_y = np.linspace(self.y_min, self.y_max, self.bins)\n",
    "\n",
    "        return self\n",
    "\n",
    "    def transform(self, X, y=None):\n",
    "        X = X.copy()\n",
    "        X['sector_x'] = pd.cut((X[self.columns[0]] - self.x_mean) / self.x_std,\n",
    "                               bins=self.bin_edges_x, labels=False, include_lowest=True)\n",
    "        X['sector_y'] = pd.cut((X[self.columns[1]] - self.y_mean) / self.y_std,\n",
    "                               bins=self.bin_edges_y, labels=False, include_lowest=True)\n",
    "        X = X.drop(columns=self.columns)\n",
    "        return X\n",
    "\n",
    "\n",
    "def drop_columns(X):\n",
    "    X = X.drop(['day', 'month', 'year', 'hour', 'quarter',\n",
    "               'dayofweek', 'minute', 'dayofyear'], axis=1)\n",
    "    return X\n",
    "\n",
    "\n",
    "drop_columns_transformer = FunctionTransformer(drop_columns)"
   ]
  },
  {
   "cell_type": "code",
   "execution_count": 10,
   "metadata": {},
   "outputs": [],
   "source": [
    "cos_transformer = Pipeline([\n",
    "    ('cos_transformation_hour', CosTransformation(column='hour')),\n",
    "    ('cos_transformation_month', CosTransformation(column='month')),\n",
    "    ('cos_transformation_quarter', CosTransformation(column='quarter')),\n",
    "    ('cos_transformation_dayofyear', CosTransformation(column='dayofyear')),\n",
    "    ('cos_transformation_day', CosTransformation(column='day')),\n",
    "    ('cos_transformation_dayofweek', CosTransformation(column='dayofweek'))\n",
    "])\n",
    "sin_transformer = Pipeline([\n",
    "    ('sin_transformation_hour', SinTransformation(column='hour')),\n",
    "    ('sin_transformation_month', SinTransformation(column='month')),\n",
    "    ('sin_transformation_quarter', SinTransformation(column='quarter')),\n",
    "    ('sin_transformation_dayofyear', SinTransformation(column='dayofyear')),\n",
    "    ('sin_transformation_day', SinTransformation(column='day')),\n",
    "    ('sin_transformation_dayofweek', SinTransformation(column='dayofweek'))\n",
    "\n",
    "])\n",
    "\n",
    "base_transformer = Pipeline([\n",
    "    ('date_features', DateFeatureExtractor(column='Dates')),\n",
    "])\n",
    "sincos_transformer = Pipeline([\n",
    "    ('date_features', DateFeatureExtractor(column='Dates')),\n",
    "    ('cos', cos_transformer),\n",
    "    ('sin', sin_transformer),\n",
    "    ('drop', drop_columns_transformer)\n",
    "\n",
    "])\n",
    "\n",
    "bucketing_transformer = Pipeline([\n",
    "    ('date_features', DateFeatureExtractor(column='Dates')),\n",
    "    ('cos', cos_transformer),\n",
    "    ('sin', sin_transformer),\n",
    "    ('drop', drop_columns_transformer),\n",
    "    ('bucketing', BucketingCoordinatesTransformation(\n",
    "        columns=['X', 'Y'], bins=10))\n",
    "])\n",
    "\n",
    "categorical_transformer_label = Pipeline(steps=[\n",
    "    ('label', OrdinalEncoder())\n",
    "])"
   ]
  },
  {
   "cell_type": "markdown",
   "metadata": {},
   "source": [
    "### EVALUATION"
   ]
  },
  {
   "cell_type": "code",
   "execution_count": 11,
   "metadata": {},
   "outputs": [],
   "source": [
    "params = {\n",
    "    'colsample_bytree': 0.8399515080498189,\n",
    "    'gamma': 1.8809687874683567,\n",
    "    'learning_rate': 0.15019457619783694,\n",
    "    'max_depth': 12,\n",
    "    'min_child_weight': 9.0,\n",
    "    'reg_lambda': 0.3917588749286913,\n",
    "    'subsample': 0.8665760243726364,\n",
    "    'objective': 'multi:softprob',\n",
    "    'num_class': 39,\n",
    "    'verbosity': 0,\n",
    "    'eval_metric': 'mlogloss',\n",
    "    'tree_method': 'hist',\n",
    "    'n_estimators': 1000\n",
    "\n",
    "}"
   ]
  },
  {
   "cell_type": "code",
   "execution_count": 12,
   "metadata": {},
   "outputs": [
    {
     "data": {
      "text/html": [
       "<div>\n",
       "<style scoped>\n",
       "    .dataframe tbody tr th:only-of-type {\n",
       "        vertical-align: middle;\n",
       "    }\n",
       "\n",
       "    .dataframe tbody tr th {\n",
       "        vertical-align: top;\n",
       "    }\n",
       "\n",
       "    .dataframe thead th {\n",
       "        text-align: right;\n",
       "    }\n",
       "</style>\n",
       "<table border=\"1\" class=\"dataframe\">\n",
       "  <thead>\n",
       "    <tr style=\"text-align: right;\">\n",
       "      <th></th>\n",
       "      <th>Dates</th>\n",
       "      <th>PdDistrict</th>\n",
       "      <th>X</th>\n",
       "      <th>Y</th>\n",
       "    </tr>\n",
       "  </thead>\n",
       "  <tbody>\n",
       "    <tr>\n",
       "      <th>0</th>\n",
       "      <td>2015-05-13 23:53:00</td>\n",
       "      <td>NORTHERN</td>\n",
       "      <td>-122.425892</td>\n",
       "      <td>37.774599</td>\n",
       "    </tr>\n",
       "    <tr>\n",
       "      <th>1</th>\n",
       "      <td>2015-05-13 23:53:00</td>\n",
       "      <td>NORTHERN</td>\n",
       "      <td>-122.425892</td>\n",
       "      <td>37.774599</td>\n",
       "    </tr>\n",
       "    <tr>\n",
       "      <th>2</th>\n",
       "      <td>2015-05-13 23:33:00</td>\n",
       "      <td>NORTHERN</td>\n",
       "      <td>-122.424363</td>\n",
       "      <td>37.800414</td>\n",
       "    </tr>\n",
       "    <tr>\n",
       "      <th>3</th>\n",
       "      <td>2015-05-13 23:30:00</td>\n",
       "      <td>NORTHERN</td>\n",
       "      <td>-122.426995</td>\n",
       "      <td>37.800873</td>\n",
       "    </tr>\n",
       "    <tr>\n",
       "      <th>4</th>\n",
       "      <td>2015-05-13 23:30:00</td>\n",
       "      <td>PARK</td>\n",
       "      <td>-122.438738</td>\n",
       "      <td>37.771541</td>\n",
       "    </tr>\n",
       "    <tr>\n",
       "      <th>...</th>\n",
       "      <td>...</td>\n",
       "      <td>...</td>\n",
       "      <td>...</td>\n",
       "      <td>...</td>\n",
       "    </tr>\n",
       "    <tr>\n",
       "      <th>878044</th>\n",
       "      <td>2003-01-06 00:15:00</td>\n",
       "      <td>TARAVAL</td>\n",
       "      <td>-122.459033</td>\n",
       "      <td>37.714056</td>\n",
       "    </tr>\n",
       "    <tr>\n",
       "      <th>878045</th>\n",
       "      <td>2003-01-06 00:01:00</td>\n",
       "      <td>INGLESIDE</td>\n",
       "      <td>-122.447364</td>\n",
       "      <td>37.731948</td>\n",
       "    </tr>\n",
       "    <tr>\n",
       "      <th>878046</th>\n",
       "      <td>2003-01-06 00:01:00</td>\n",
       "      <td>SOUTHERN</td>\n",
       "      <td>-122.403390</td>\n",
       "      <td>37.780266</td>\n",
       "    </tr>\n",
       "    <tr>\n",
       "      <th>878047</th>\n",
       "      <td>2003-01-06 00:01:00</td>\n",
       "      <td>SOUTHERN</td>\n",
       "      <td>-122.390531</td>\n",
       "      <td>37.780607</td>\n",
       "    </tr>\n",
       "    <tr>\n",
       "      <th>878048</th>\n",
       "      <td>2003-01-06 00:01:00</td>\n",
       "      <td>BAYVIEW</td>\n",
       "      <td>-122.394926</td>\n",
       "      <td>37.738212</td>\n",
       "    </tr>\n",
       "  </tbody>\n",
       "</table>\n",
       "<p>875726 rows × 4 columns</p>\n",
       "</div>"
      ],
      "text/plain": [
       "                      Dates PdDistrict           X          Y\n",
       "0       2015-05-13 23:53:00   NORTHERN -122.425892  37.774599\n",
       "1       2015-05-13 23:53:00   NORTHERN -122.425892  37.774599\n",
       "2       2015-05-13 23:33:00   NORTHERN -122.424363  37.800414\n",
       "3       2015-05-13 23:30:00   NORTHERN -122.426995  37.800873\n",
       "4       2015-05-13 23:30:00       PARK -122.438738  37.771541\n",
       "...                     ...        ...         ...        ...\n",
       "878044  2003-01-06 00:15:00    TARAVAL -122.459033  37.714056\n",
       "878045  2003-01-06 00:01:00  INGLESIDE -122.447364  37.731948\n",
       "878046  2003-01-06 00:01:00   SOUTHERN -122.403390  37.780266\n",
       "878047  2003-01-06 00:01:00   SOUTHERN -122.390531  37.780607\n",
       "878048  2003-01-06 00:01:00    BAYVIEW -122.394926  37.738212\n",
       "\n",
       "[875726 rows x 4 columns]"
      ]
     },
     "execution_count": 12,
     "metadata": {},
     "output_type": "execute_result"
    }
   ],
   "source": [
    "df_train"
   ]
  },
  {
   "cell_type": "code",
   "execution_count": 13,
   "metadata": {},
   "outputs": [],
   "source": [
    "# df_train_sin = sincos_transformer.fit_transform(df_train)\n",
    "# df_test_sin = sincos_transformer.transform(df_test)"
   ]
  },
  {
   "cell_type": "code",
   "execution_count": 14,
   "metadata": {},
   "outputs": [],
   "source": [
    "# dump(sincos_transformer, 'sincos.joblib')"
   ]
  },
  {
   "cell_type": "code",
   "execution_count": null,
   "metadata": {},
   "outputs": [],
   "source": [
    "sincos_transformer=load('sincos.joblib')"
   ]
  },
  {
   "cell_type": "code",
   "execution_count": 16,
   "metadata": {},
   "outputs": [],
   "source": [
    "df_train_sin = sincos_transformer.transform(df_train)\n",
    "\n",
    "df_test_sin = sincos_transformer.transform(df_test)"
   ]
  },
  {
   "cell_type": "code",
   "execution_count": null,
   "metadata": {},
   "outputs": [],
   "source": []
  },
  {
   "cell_type": "code",
   "execution_count": 17,
   "metadata": {},
   "outputs": [],
   "source": [
    "label_encoder = LabelEncoder()\n",
    "y = label_encoder.fit_transform(y_train)"
   ]
  },
  {
   "cell_type": "code",
   "execution_count": 18,
   "metadata": {},
   "outputs": [],
   "source": [
    "preprocessor = ColumnTransformer(\n",
    "    transformers=[\n",
    "        ('cat_label', categorical_transformer_label, ['PdDistrict']),\n",
    "    ], remainder='passthrough')"
   ]
  },
  {
   "cell_type": "code",
   "execution_count": 19,
   "metadata": {},
   "outputs": [],
   "source": [
    "pipeline_ = Pipeline([\n",
    "    ('preprocessor', preprocessor),\n",
    "    ('classifier', xgb.XGBClassifier(**params))\n",
    "])"
   ]
  },
  {
   "cell_type": "code",
   "execution_count": 20,
   "metadata": {},
   "outputs": [],
   "source": [
    "#pipeline_.fit(df_train_sin, y)"
   ]
  },
  {
   "cell_type": "code",
   "execution_count": 21,
   "metadata": {},
   "outputs": [],
   "source": [
    "# dump(pipeline_, 'pipeline.joblib')"
   ]
  },
  {
   "cell_type": "code",
   "execution_count": 22,
   "metadata": {},
   "outputs": [],
   "source": [
    "pipeline_ = load('pipeline.joblib')"
   ]
  },
  {
   "cell_type": "code",
   "execution_count": 23,
   "metadata": {},
   "outputs": [
    {
     "data": {
      "text/plain": [
       "array([[3.10408976e-03, 1.13435626e-01, 1.00998339e-04, ...,\n",
       "        1.78725243e-01, 2.46105772e-02, 1.93715114e-02],\n",
       "       [3.30597232e-03, 1.20100945e-01, 9.77472373e-05, ...,\n",
       "        9.39417109e-02, 7.59444311e-02, 2.26078890e-02],\n",
       "       [1.44766644e-03, 3.90485451e-02, 8.42447625e-05, ...,\n",
       "        1.28676549e-01, 1.22515280e-02, 4.02965304e-03],\n",
       "       ...,\n",
       "       [2.02779146e-03, 7.43790343e-02, 1.88263471e-03, ...,\n",
       "        1.84749607e-02, 2.55197398e-02, 7.57018477e-03],\n",
       "       [2.65104324e-03, 7.05329850e-02, 2.42879894e-03, ...,\n",
       "        1.77896507e-02, 1.58452559e-02, 1.13449674e-02],\n",
       "       [1.60495308e-03, 4.55645211e-02, 2.39222264e-03, ...,\n",
       "        2.28535812e-02, 1.09957401e-02, 4.22610762e-03]], dtype=float32)"
      ]
     },
     "execution_count": 23,
     "metadata": {},
     "output_type": "execute_result"
    }
   ],
   "source": [
    "pipeline_.predict_proba(df_test_sin)"
   ]
  },
  {
   "cell_type": "code",
   "execution_count": 24,
   "metadata": {},
   "outputs": [],
   "source": [
    "predicts=pipeline_.predict(df_test_sin)"
   ]
  },
  {
   "cell_type": "code",
   "execution_count": 25,
   "metadata": {},
   "outputs": [
    {
     "data": {
      "text/plain": [
       "array([36, 21, 16, ..., 21, 21, 21], dtype=int64)"
      ]
     },
     "execution_count": 25,
     "metadata": {},
     "output_type": "execute_result"
    }
   ],
   "source": [
    "predicts"
   ]
  },
  {
   "cell_type": "code",
   "execution_count": 26,
   "metadata": {},
   "outputs": [],
   "source": [
    "predicts = label_encoder.inverse_transform(predicts)"
   ]
  },
  {
   "cell_type": "code",
   "execution_count": 27,
   "metadata": {},
   "outputs": [
    {
     "data": {
      "text/plain": [
       "array(['VEHICLE THEFT', 'OTHER OFFENSES', 'LARCENY/THEFT', ...,\n",
       "       'OTHER OFFENSES', 'OTHER OFFENSES', 'OTHER OFFENSES'], dtype=object)"
      ]
     },
     "execution_count": 27,
     "metadata": {},
     "output_type": "execute_result"
    }
   ],
   "source": [
    "predicts"
   ]
  },
  {
   "cell_type": "code",
   "execution_count": 29,
   "metadata": {},
   "outputs": [],
   "source": [
    "data = {\"Dates\": \"2015-05-10 23:59:00\",\n",
    "        \"PdDistrict\": \"SOUTHERN\", \"X\": -122.408983, \"Y\": 37.751987}"
   ]
  },
  {
   "cell_type": "code",
   "execution_count": 31,
   "metadata": {},
   "outputs": [],
   "source": [
    "data=pd.DataFrame(data,index=[0])"
   ]
  },
  {
   "cell_type": "code",
   "execution_count": 32,
   "metadata": {},
   "outputs": [
    {
     "data": {
      "text/html": [
       "<div>\n",
       "<style scoped>\n",
       "    .dataframe tbody tr th:only-of-type {\n",
       "        vertical-align: middle;\n",
       "    }\n",
       "\n",
       "    .dataframe tbody tr th {\n",
       "        vertical-align: top;\n",
       "    }\n",
       "\n",
       "    .dataframe thead th {\n",
       "        text-align: right;\n",
       "    }\n",
       "</style>\n",
       "<table border=\"1\" class=\"dataframe\">\n",
       "  <thead>\n",
       "    <tr style=\"text-align: right;\">\n",
       "      <th></th>\n",
       "      <th>Dates</th>\n",
       "      <th>PdDistrict</th>\n",
       "      <th>X</th>\n",
       "      <th>Y</th>\n",
       "    </tr>\n",
       "  </thead>\n",
       "  <tbody>\n",
       "    <tr>\n",
       "      <th>0</th>\n",
       "      <td>2015-05-10 23:59:00</td>\n",
       "      <td>SOUTHERN</td>\n",
       "      <td>-122.408983</td>\n",
       "      <td>37.751987</td>\n",
       "    </tr>\n",
       "  </tbody>\n",
       "</table>\n",
       "</div>"
      ],
      "text/plain": [
       "                 Dates PdDistrict           X          Y\n",
       "0  2015-05-10 23:59:00   SOUTHERN -122.408983  37.751987"
      ]
     },
     "execution_count": 32,
     "metadata": {},
     "output_type": "execute_result"
    }
   ],
   "source": [
    "data"
   ]
  },
  {
   "cell_type": "code",
   "execution_count": 33,
   "metadata": {},
   "outputs": [],
   "source": [
    "data_sin=sincos_transformer.transform(data)"
   ]
  },
  {
   "cell_type": "code",
   "execution_count": 34,
   "metadata": {},
   "outputs": [
    {
     "data": {
      "text/html": [
       "<div>\n",
       "<style scoped>\n",
       "    .dataframe tbody tr th:only-of-type {\n",
       "        vertical-align: middle;\n",
       "    }\n",
       "\n",
       "    .dataframe tbody tr th {\n",
       "        vertical-align: top;\n",
       "    }\n",
       "\n",
       "    .dataframe thead th {\n",
       "        text-align: right;\n",
       "    }\n",
       "</style>\n",
       "<table border=\"1\" class=\"dataframe\">\n",
       "  <thead>\n",
       "    <tr style=\"text-align: right;\">\n",
       "      <th></th>\n",
       "      <th>PdDistrict</th>\n",
       "      <th>X</th>\n",
       "      <th>Y</th>\n",
       "      <th>is_weekend</th>\n",
       "      <th>hourcos</th>\n",
       "      <th>monthcos</th>\n",
       "      <th>quartercos</th>\n",
       "      <th>dayofyearcos</th>\n",
       "      <th>daycos</th>\n",
       "      <th>dayofweekcos</th>\n",
       "      <th>hoursin</th>\n",
       "      <th>monthsin</th>\n",
       "      <th>quartersin</th>\n",
       "      <th>dayofyearsin</th>\n",
       "      <th>daysin</th>\n",
       "      <th>dayofweeksin</th>\n",
       "    </tr>\n",
       "  </thead>\n",
       "  <tbody>\n",
       "    <tr>\n",
       "      <th>0</th>\n",
       "      <td>SOUTHERN</td>\n",
       "      <td>-122.408983</td>\n",
       "      <td>37.751987</td>\n",
       "      <td>1</td>\n",
       "      <td>0.965926</td>\n",
       "      <td>-0.5</td>\n",
       "      <td>6.123234e-17</td>\n",
       "      <td>-0.736055</td>\n",
       "      <td>-0.250653</td>\n",
       "      <td>0.62349</td>\n",
       "      <td>-0.258819</td>\n",
       "      <td>0.866025</td>\n",
       "      <td>1.0</td>\n",
       "      <td>0.676922</td>\n",
       "      <td>0.968077</td>\n",
       "      <td>-0.781831</td>\n",
       "    </tr>\n",
       "  </tbody>\n",
       "</table>\n",
       "</div>"
      ],
      "text/plain": [
       "  PdDistrict           X          Y  is_weekend   hourcos  monthcos  \\\n",
       "0   SOUTHERN -122.408983  37.751987           1  0.965926      -0.5   \n",
       "\n",
       "     quartercos  dayofyearcos    daycos  dayofweekcos   hoursin  monthsin  \\\n",
       "0  6.123234e-17     -0.736055 -0.250653       0.62349 -0.258819  0.866025   \n",
       "\n",
       "   quartersin  dayofyearsin    daysin  dayofweeksin  \n",
       "0         1.0      0.676922  0.968077     -0.781831  "
      ]
     },
     "execution_count": 34,
     "metadata": {},
     "output_type": "execute_result"
    }
   ],
   "source": [
    "data_sin"
   ]
  },
  {
   "cell_type": "code",
   "execution_count": 35,
   "metadata": {},
   "outputs": [
    {
     "data": {
      "text/plain": [
       "array([[1.51005143e-03, 1.36684775e-01, 1.24306811e-04, 8.09879159e-04,\n",
       "        4.31540757e-02, 3.66057269e-03, 5.93324611e-03, 5.30445017e-02,\n",
       "        9.90307704e-03, 3.33655364e-04, 2.44742085e-04, 5.51509031e-04,\n",
       "        3.18873674e-03, 7.89245497e-03, 1.17734664e-04, 3.36861168e-03,\n",
       "        1.42620668e-01, 5.55570936e-03, 4.49483807e-04, 1.84622835e-02,\n",
       "        6.15460835e-02, 1.24214366e-01, 1.43289908e-05, 5.79696905e-04,\n",
       "        5.82903763e-03, 6.18088208e-02, 1.03933632e-03, 2.68650334e-02,\n",
       "        6.24898588e-03, 2.78612686e-04, 5.10559836e-03, 4.48776642e-04,\n",
       "        3.25135924e-02, 7.65453478e-06, 4.53129970e-03, 9.70708802e-02,\n",
       "        9.07558203e-02, 2.99197547e-02, 1.36122610e-02]], dtype=float32)"
      ]
     },
     "execution_count": 35,
     "metadata": {},
     "output_type": "execute_result"
    }
   ],
   "source": [
    "pipeline_.predict_proba(data_sin)"
   ]
  },
  {
   "cell_type": "code",
   "execution_count": 37,
   "metadata": {},
   "outputs": [],
   "source": [
    "preds=pipeline_.predict(data_sin)"
   ]
  },
  {
   "cell_type": "code",
   "execution_count": 38,
   "metadata": {},
   "outputs": [
    {
     "data": {
      "text/plain": [
       "array([16], dtype=int64)"
      ]
     },
     "execution_count": 38,
     "metadata": {},
     "output_type": "execute_result"
    }
   ],
   "source": [
    "preds"
   ]
  },
  {
   "cell_type": "code",
   "execution_count": 39,
   "metadata": {},
   "outputs": [
    {
     "data": {
      "text/plain": [
       "array(['LARCENY/THEFT'], dtype=object)"
      ]
     },
     "execution_count": 39,
     "metadata": {},
     "output_type": "execute_result"
    }
   ],
   "source": [
    "label_encoder.inverse_transform(preds)"
   ]
  }
 ],
 "metadata": {
  "kernelspec": {
   "display_name": "Python 3",
   "language": "python",
   "name": "python3"
  },
  "language_info": {
   "codemirror_mode": {
    "name": "ipython",
    "version": 3
   },
   "file_extension": ".py",
   "mimetype": "text/x-python",
   "name": "python",
   "nbconvert_exporter": "python",
   "pygments_lexer": "ipython3",
   "version": "3.11.2"
  }
 },
 "nbformat": 4,
 "nbformat_minor": 2
}
